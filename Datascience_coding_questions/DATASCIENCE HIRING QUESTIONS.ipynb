{
 "cells": [
  {
   "cell_type": "markdown",
   "metadata": {},
   "source": [
    "## Given nums = [2, 7, 11, 15], target = 18,"
   ]
  },
  {
   "cell_type": "code",
   "execution_count": 8,
   "metadata": {},
   "outputs": [
    {
     "name": "stdout",
     "output_type": "stream",
     "text": [
      "[[7, 11], [11, 7]]\n"
     ]
    }
   ],
   "source": [
    "d={2:True,7:True,11:True,15:True}\n",
    "res=[]\n",
    "def f(a,t):\n",
    "    for i in a:\n",
    "        r=t-i\n",
    "        if(d.get(r,0)):\n",
    "            res.append([i,r])\n",
    "    print(res)\n",
    "            \n",
    "f([2,7,11,15],18)     "
   ]
  },
  {
   "cell_type": "code",
   "execution_count": 7,
   "metadata": {},
   "outputs": [
    {
     "data": {
      "text/plain": [
       "0"
      ]
     },
     "execution_count": 7,
     "metadata": {},
     "output_type": "execute_result"
    }
   ],
   "source": [
    "d={2:True,7:True,11:True,15:True}\n",
    "d.get(16,0)"
   ]
  },
  {
   "cell_type": "markdown",
   "metadata": {},
   "source": [
    "## Given a string, return the first recurring character in it, or None if there is no recurring chracter.\n",
    "\n",
    "Example:\n",
    "\n",
    "input = \"interviewquery\"\n",
    "output = \"i\"\n",
    "\n",
    "input = \"interv\"\n",
    "output = None`m"
   ]
  },
  {
   "cell_type": "code",
   "execution_count": 14,
   "metadata": {},
   "outputs": [
    {
     "data": {
      "text/plain": [
       "'a'"
      ]
     },
     "execution_count": 14,
     "metadata": {},
     "output_type": "execute_result"
    }
   ],
   "source": [
    "x=\"mala\"\n",
    "d={}\n",
    "def f1(x,d):\n",
    "    for i in x:\n",
    "        if d.get(i,0):\n",
    "            return i\n",
    "        else:\n",
    "            d[i]=True\n",
    "f1(x,d)"
   ]
  },
  {
   "cell_type": "markdown",
   "metadata": {},
   "source": [
    "## Write a function to generate N samples from a normal distribution and plot the histogram."
   ]
  },
  {
   "cell_type": "code",
   "execution_count": 18,
   "metadata": {},
   "outputs": [
    {
     "data": {
      "image/png": "[encoded data removed]",
      "text/plain": [
       "<Figure size 432x288 with 1 Axes>"
      ]
     },
     "metadata": {
      "needs_background": "light"
     },
     "output_type": "display_data"
    }
   ],
   "source": [
    "import matplotlib.pyplot as plt\n",
    "import scipy.stats\n",
    "\n",
    "def normal_distribution(n):\n",
    "    dist=scipy.stats.norm(0,1)\n",
    "    samples=dist.rvs(n)\n",
    "    plt.hist(samples)\n",
    "    plt.show()\n",
    "    \n",
    "normal_distribution(10000)\n",
    "    "
   ]
  },
  {
   "cell_type": "markdown",
   "metadata": {},
   "source": [
    "## Write a function that takes in a list of dictionaries with a key and list of integers and returns a dictionary with the standard deviation of each list.\n",
    "\n",
    "Note that this should be done without using the numpy built in functions.\n",
    "\n",
    "Example:\n",
    "\n",
    "input = [\n",
    "    {\n",
    "        'key': 'list1',\n",
    "        'values': [4,5,2,3,4,5,2,3],\n",
    "    },\n",
    "    {\n",
    "        'key': 'list2',\n",
    "        'values': [1,1,34,12,40,3,9,7],\n",
    "    }\n",
    "]\n",
    "\n",
    "output -> {'list1': 1.12, 'list2': 14.19}"
   ]
  },
  {
   "cell_type": "code",
   "execution_count": 33,
   "metadata": {},
   "outputs": [
    {
     "name": "stdout",
     "output_type": "stream",
     "text": [
      "8\n",
      "3.5\n",
      "res 0.5\n",
      "res 1.5\n",
      "res -1.5\n",
      "res -0.5\n",
      "res 0.5\n",
      "res 1.5\n",
      "res -1.5\n",
      "res -0.5\n",
      "0.0\n",
      "0.0\n",
      "8\n",
      "13.375\n",
      "res -12.375\n",
      "res -12.375\n",
      "res 20.625\n",
      "res -1.375\n",
      "res 26.625\n",
      "res -10.375\n",
      "res -4.375\n",
      "res -6.375\n",
      "0.0\n",
      "0.0\n"
     ]
    }
   ],
   "source": [
    "x=[ { 'key': 'list1', 'values': [4,5,2,3,4,5,2,3], }, { 'key': 'list2', 'values': [1,1,34,12,40,3,9,7], } ]\n",
    "import math\n",
    "def f3(x):\n",
    "    for i in x:\n",
    "        summ=sum(i['values'])\n",
    "        n=len(i['values'])\n",
    "        print(n)\n",
    "        mean=summ/n\n",
    "        print(mean)\n",
    "        ss=0\n",
    "        for j in i['values']:\n",
    "            res=j-mean\n",
    "            print('res',res)\n",
    "            ss+=res\n",
    "        print(ss)\n",
    "        summm_res=((ss**2)/n)**(0.5)\n",
    "        print(summm_res)\n",
    "        \n",
    "        \n",
    "            \n",
    "        \n",
    "f3(x)\n",
    "    "
   ]
  },
  {
   "cell_type": "markdown",
   "metadata": {},
   "source": [
    "## Given a list of stock prices in ascending order by datetime, write a function that outputs the max profit by buying and selling at a specific interval.\n",
    "\n",
    "Example:\n",
    "\n",
    "stock_prices = [10,5,20,32,25,12]\n",
    "get_max_profit(stock_prices) -> 27\n",
    "Making it harder, given a list of stock prices and date times in ascending order by datetime, write a function that outputs the profit and start and end dates to buy and sell for max profit.\n",
    "\n",
    "stock_prices = [10,5,20,32,25,12]\n",
    "dts = [\n",
    "'2019-01-01',\n",
    "'2019-01-02',\n",
    "'2019-01-03',\n",
    "'2019-01-04',\n",
    "'2019-01-05',\n",
    "'2019-01-06',\n",
    "]\n",
    "get_profit_dates(stock_prices,dts) -> (27, '2019-01-02', '2019-01-04')\n",
    "Hint: There are several ways to solve this problem. But a good place to start is by thinking about your goal: If we want to maximize profit, ideally we would want to buy at the lowest price and sell at the highest possible price.\n",
    "Buy"
   ]
  },
  {
   "cell_type": "code",
   "execution_count": 36,
   "metadata": {},
   "outputs": [
    {
     "data": {
      "text/plain": [
       "(27, '2019-01-02', '2019-01-04')"
      ]
     },
     "execution_count": 36,
     "metadata": {},
     "output_type": "execute_result"
    }
   ],
   "source": [
    "stock_prices = [10,5,20,32,25,12] \n",
    "dts = [ '2019-01-01', '2019-01-02', '2019-01-03', '2019-01-04', '2019-01-05', '2019-01-06', ]\n",
    "def get_profit_dates(stock_prices,dts):\n",
    "    minn=min(stock_prices)\n",
    "    minn_index=stock_prices.index(minn)\n",
    "    maxx=max(stock_prices)\n",
    "    maxx_index=stock_prices.index(maxx)\n",
    "    profit=maxx-minn\n",
    "    return (profit,dts[minn_index],dts[maxx_index])\n",
    "\n",
    "get_profit_dates(stock_prices,dts)\n",
    "    "
   ]
  },
  {
   "cell_type": "code",
   "execution_count": 35,
   "metadata": {},
   "outputs": [
    {
     "data": {
      "text/plain": [
       "1"
      ]
     },
     "execution_count": 35,
     "metadata": {},
     "output_type": "execute_result"
    }
   ],
   "source": [
    "stock_prices = [10,5,20,32,25,12] \n",
    "stock_prices.index(5)"
   ]
  },
  {
   "cell_type": "markdown",
   "metadata": {},
   "source": [
    "## Write a function that can take a string and return a list of bigrams.\n",
    "\n",
    "Example:\n",
    "\n",
    "sentence = \"\"\"\n",
    "Have free hours and love children? \n",
    "Drive kids to school, soccer practice \n",
    "and other activities.\n",
    "\"\"\"\n",
    "\n",
    "output = [('have', 'free'),\n",
    " ('free', 'hours'),\n",
    " ('hours', 'and'),\n",
    " ('and', 'love'),\n",
    " ('love', 'children?'),\n",
    " ('children?', 'drive'),\n",
    " ('drive', 'kids'),\n",
    " ('kids', 'to'),\n",
    " ('to', 'school,'),\n",
    " ('school,', 'soccer'),\n",
    " ('soccer', 'practice'),\n",
    " ('practice', 'and'),\n",
    " ('and', 'other'),\n",
    " ('other', 'activities.')]\n"
   ]
  },
  {
   "cell_type": "code",
   "execution_count": 45,
   "metadata": {},
   "outputs": [
    {
     "name": "stdout",
     "output_type": "stream",
     "text": [
      "('Have', 'free')\n",
      "('free', 'hours')\n",
      "('hours', 'and')\n",
      "('and', 'love')\n",
      "('love', 'children?')\n",
      "('children?', 'Drive')\n",
      "('Drive', 'kids')\n",
      "('kids', 'to')\n",
      "('to', 'school,')\n",
      "('school,', 'soccer')\n",
      "('soccer', 'practice')\n",
      "('practice', 'and')\n",
      "('and', 'other')\n",
      "('other', 'activities')\n"
     ]
    }
   ],
   "source": [
    "sentence = \"Have free hours and love children? Drive kids to school, soccer practice and other activities\"\n",
    "l=list(sentence.split(' '))\n",
    "for i in range(len(l)-1):\n",
    "    print(tuple(l[i:i+2]))\n",
    "    "
   ]
  },
  {
   "cell_type": "code",
   "execution_count": 38,
   "metadata": {},
   "outputs": [
    {
     "name": "stdout",
     "output_type": "stream",
     "text": [
      "[1, 2]\n",
      "[2, 3]\n",
      "[3, 4]\n"
     ]
    }
   ],
   "source": [
    "k=[1,2,3,4]\n",
    "for i in range(len(k)-1):\n",
    "    print(k[i:i+2])"
   ]
  },
  {
   "cell_type": "markdown",
   "metadata": {},
   "source": [
    "## Given two strings A and B, return whether or not A can be shifted some number of times to get B.\n",
    "\n",
    "Example:\n",
    "\n",
    "A = 'abcde'\n",
    "B = 'cdeab'\n",
    "can_shift(A, B) == True\n",
    "A = 'abc'\n",
    "B = 'acb'\n",
    "can_shift(A, B) == False"
   ]
  },
  {
   "cell_type": "code",
   "execution_count": 63,
   "metadata": {},
   "outputs": [],
   "source": [
    "A = 'abcde'\n",
    "B = 'cdeab'\n"
   ]
  },
  {
   "cell_type": "code",
   "execution_count": 60,
   "metadata": {},
   "outputs": [
    {
     "data": {
      "text/plain": [
       "False"
      ]
     },
     "execution_count": 60,
     "metadata": {},
     "output_type": "execute_result"
    }
   ],
   "source": [
    "def isrotation(s1,s2):\n",
    "     return len(s1)==len(s2) and s1 in 2*s2\n",
    "isrotation(A,B)"
   ]
  },
  {
   "cell_type": "code",
   "execution_count": 64,
   "metadata": {},
   "outputs": [
    {
     "name": "stdout",
     "output_type": "stream",
     "text": [
      "cdeabcdeab\n"
     ]
    }
   ],
   "source": [
    "def isrotation(s1,s2):\n",
    "     print(2*s2)\n",
    "isrotation(A,B)"
   ]
  },
  {
   "cell_type": "markdown",
   "metadata": {},
   "source": [
    "## Given two strings, string1 and string, determine if there exists a one to one character mapping between each character of string1 to string2.\n",
    "\n",
    "Example 1:\n",
    "\n",
    "string1 = 'qwe'\n",
    "string2 = 'asd'\n",
    "string_map(string1, string2) == True\n",
    "#q = a, w = s, and e = d\n",
    "Example 2:\n",
    "\n",
    "string1 = 'donut'\n",
    "string2 = 'fatty'\n",
    "string_map(string1, string2) == False\n",
    "#t cannot map to two different values"
   ]
  },
  {
   "cell_type": "code",
   "execution_count": 67,
   "metadata": {},
   "outputs": [
    {
     "data": {
      "text/plain": [
       "False"
      ]
     },
     "execution_count": 67,
     "metadata": {},
     "output_type": "execute_result"
    }
   ],
   "source": [
    "def string_map(s1,s2):\n",
    "    return len(set(s1))==len(set(s2))\n",
    "#string1 = 'qwe' \n",
    "#string2 = 'asd'\n",
    "string1 = 'donut'\n",
    "string2 = 'fatty'\n",
    "string_map(string1,string2)"
   ]
  },
  {
   "cell_type": "markdown",
   "metadata": {},
   "source": [
    "## In data science, there exists the concept of stemming, which is the heuristic of chopping off the end of a word to clean and bucket it into an easier feature set.\n",
    "\n",
    "Given a dictionary consisting of many roots and a sentence, stem all the words in the sentence with the root forming it. If a word has many roots can form it, replace it with the root with the shortest length.\n",
    "\n",
    "Example:\n",
    "\n",
    "Input:\n",
    "roots = [\"cat\", \"bat\", \"rat\"]\n",
    "sentence = \"the cattle was rattled by the battery\"\n",
    "Output: \"the cat was rat by the bat\""
   ]
  },
  {
   "cell_type": "code",
   "execution_count": 80,
   "metadata": {},
   "outputs": [
    {
     "name": "stdout",
     "output_type": "stream",
     "text": [
      "the cat was rat by the bat\n"
     ]
    }
   ],
   "source": [
    "sentence = \"the cattle was rattled by the battery\" \n",
    "l=list(sentence.split(' '))\n",
    "roots = [\"cat\", \"bat\", \"rat\"] \n",
    "for i in l:\n",
    "    for j in roots:\n",
    "        if j in i:\n",
    "            l[l.index(i)]=j\n",
    "print(\" \".join(l))"
   ]
  },
  {
   "cell_type": "code",
   "execution_count": 74,
   "metadata": {},
   "outputs": [
    {
     "data": {
      "text/plain": [
       "True"
      ]
     },
     "execution_count": 74,
     "metadata": {},
     "output_type": "execute_result"
    }
   ],
   "source": [
    "'rat' in 'rattled'"
   ]
  },
  {
   "cell_type": "code",
   "execution_count": null,
   "metadata": {},
   "outputs": [],
   "source": []
  }
 ],
 "metadata": {
  "kernelspec": {
   "display_name": "Python 3",
   "language": "python",
   "name": "python3"
  },
  "language_info": {
   "codemirror_mode": {
    "name": "ipython",
    "version": 3
   },
   "file_extension": ".py",
   "mimetype": "text/x-python",
   "name": "python",
   "nbconvert_exporter": "python",
   "pygments_lexer": "ipython3",
   "version": "3.8.5"
  }
 },
 "nbformat": 4,
 "nbformat_minor": 4
}
