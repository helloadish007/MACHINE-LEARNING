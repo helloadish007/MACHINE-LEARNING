{
 "cells": [
  {
   "cell_type": "markdown",
   "metadata": {},
   "source": [
    "The stratify parameter asks whether you want to retain the same proportion of classes in the train and test sets that are found in the entire original dataset.\n",
    "\n",
    "For example, if there are 100 observations in the entire original dataset of which 80 are class a and 20 are class b and you set stratify = True, with a .7 : .3 train-test split, you will get a training set with 56 examples of class a and 14 examples of class b."
   ]
  },
  {
   "cell_type": "code",
   "execution_count": 77,
   "metadata": {},
   "outputs": [],
   "source": [
    "from sklearn.datasets.samples_generator import make_blobs\n",
    "from pandas import DataFrame\n",
    "import pandas as pd\n",
    "from sklearn.preprocessing import StandardScaler\n",
    "# generate a classification dataset\n",
    "X, y = make_blobs(n_samples=1000, centers=3, n_features=10, random_state=1, cluster_std=3)\n",
    "from sklearn.model_selection import train_test_split\n",
    "xtrain, xtest, ytrain, ytest = train_test_split(X, y, test_size = 0.2,random_state=0,stratify=y)"
   ]
  },
  {
   "cell_type": "code",
   "execution_count": 78,
   "metadata": {},
   "outputs": [
    {
     "data": {
      "text/plain": [
       "array([[  0.90852794,   5.24784948,  -2.88880532, ...,   0.80658323,\n",
       "         -6.10137706,  -6.88565065],\n",
       "       [  0.78724117,   3.56047216,  -9.84794504, ...,  -2.7851762 ,\n",
       "         -5.40010479,  -2.78332042],\n",
       "       [ -0.2968341 ,  11.45776239,  -1.14337532, ...,  -8.227403  ,\n",
       "         -5.67449685,   8.68158641],\n",
       "       ...,\n",
       "       [ -2.03820897,   0.90456341,  -8.38001902, ...,   2.25740491,\n",
       "         -3.14830446,  -8.96916176],\n",
       "       [  0.56210945,   1.54538806, -10.79636802, ...,  -5.66733328,\n",
       "         -1.01301258,  -3.16051555],\n",
       "       [  2.90603739,   5.01383194, -18.37204462, ...,  -9.87663144,\n",
       "         -3.32380413,  -2.9018752 ]])"
      ]
     },
     "execution_count": 78,
     "metadata": {},
     "output_type": "execute_result"
    }
   ],
   "source": [
    "xtest"
   ]
  },
  {
   "cell_type": "code",
   "execution_count": 79,
   "metadata": {},
   "outputs": [
    {
     "data": {
      "text/html": [
       "<div>\n",
       "<style scoped>\n",
       "    .dataframe tbody tr th:only-of-type {\n",
       "        vertical-align: middle;\n",
       "    }\n",
       "\n",
       "    .dataframe tbody tr th {\n",
       "        vertical-align: top;\n",
       "    }\n",
       "\n",
       "    .dataframe thead th {\n",
       "        text-align: right;\n",
       "    }\n",
       "</style>\n",
       "<table border=\"1\" class=\"dataframe\">\n",
       "  <thead>\n",
       "    <tr style=\"text-align: right;\">\n",
       "      <th></th>\n",
       "      <th>target</th>\n",
       "    </tr>\n",
       "  </thead>\n",
       "  <tbody>\n",
       "    <tr>\n",
       "      <th>0</th>\n",
       "      <td>0</td>\n",
       "    </tr>\n",
       "    <tr>\n",
       "      <th>1</th>\n",
       "      <td>1</td>\n",
       "    </tr>\n",
       "    <tr>\n",
       "      <th>2</th>\n",
       "      <td>0</td>\n",
       "    </tr>\n",
       "    <tr>\n",
       "      <th>3</th>\n",
       "      <td>0</td>\n",
       "    </tr>\n",
       "    <tr>\n",
       "      <th>4</th>\n",
       "      <td>0</td>\n",
       "    </tr>\n",
       "    <tr>\n",
       "      <th>...</th>\n",
       "      <td>...</td>\n",
       "    </tr>\n",
       "    <tr>\n",
       "      <th>995</th>\n",
       "      <td>2</td>\n",
       "    </tr>\n",
       "    <tr>\n",
       "      <th>996</th>\n",
       "      <td>1</td>\n",
       "    </tr>\n",
       "    <tr>\n",
       "      <th>997</th>\n",
       "      <td>1</td>\n",
       "    </tr>\n",
       "    <tr>\n",
       "      <th>998</th>\n",
       "      <td>1</td>\n",
       "    </tr>\n",
       "    <tr>\n",
       "      <th>999</th>\n",
       "      <td>0</td>\n",
       "    </tr>\n",
       "  </tbody>\n",
       "</table>\n",
       "<p>1000 rows × 1 columns</p>\n",
       "</div>"
      ],
      "text/plain": [
       "     target\n",
       "0         0\n",
       "1         1\n",
       "2         0\n",
       "3         0\n",
       "4         0\n",
       "..      ...\n",
       "995       2\n",
       "996       1\n",
       "997       1\n",
       "998       1\n",
       "999       0\n",
       "\n",
       "[1000 rows x 1 columns]"
      ]
     },
     "execution_count": 79,
     "metadata": {},
     "output_type": "execute_result"
    }
   ],
   "source": [
    "t=pd.DataFrame(y,columns=['target'])\n",
    "t"
   ]
  },
  {
   "cell_type": "code",
   "execution_count": 80,
   "metadata": {},
   "outputs": [
    {
     "data": {
      "text/html": [
       "<div>\n",
       "<style scoped>\n",
       "    .dataframe tbody tr th:only-of-type {\n",
       "        vertical-align: middle;\n",
       "    }\n",
       "\n",
       "    .dataframe tbody tr th {\n",
       "        vertical-align: top;\n",
       "    }\n",
       "\n",
       "    .dataframe thead th {\n",
       "        text-align: right;\n",
       "    }\n",
       "</style>\n",
       "<table border=\"1\" class=\"dataframe\">\n",
       "  <thead>\n",
       "    <tr style=\"text-align: right;\">\n",
       "      <th></th>\n",
       "      <th>principal component 1</th>\n",
       "      <th>principal component 2</th>\n",
       "    </tr>\n",
       "  </thead>\n",
       "  <tbody>\n",
       "    <tr>\n",
       "      <th>0</th>\n",
       "      <td>-0.988467</td>\n",
       "      <td>1.638507</td>\n",
       "    </tr>\n",
       "    <tr>\n",
       "      <th>1</th>\n",
       "      <td>-2.394779</td>\n",
       "      <td>-1.933281</td>\n",
       "    </tr>\n",
       "    <tr>\n",
       "      <th>2</th>\n",
       "      <td>-1.549161</td>\n",
       "      <td>1.744374</td>\n",
       "    </tr>\n",
       "    <tr>\n",
       "      <th>3</th>\n",
       "      <td>-2.210920</td>\n",
       "      <td>2.376471</td>\n",
       "    </tr>\n",
       "    <tr>\n",
       "      <th>4</th>\n",
       "      <td>-1.345979</td>\n",
       "      <td>0.871442</td>\n",
       "    </tr>\n",
       "    <tr>\n",
       "      <th>...</th>\n",
       "      <td>...</td>\n",
       "      <td>...</td>\n",
       "    </tr>\n",
       "    <tr>\n",
       "      <th>995</th>\n",
       "      <td>3.784424</td>\n",
       "      <td>-0.079716</td>\n",
       "    </tr>\n",
       "    <tr>\n",
       "      <th>996</th>\n",
       "      <td>-1.792334</td>\n",
       "      <td>-1.491027</td>\n",
       "    </tr>\n",
       "    <tr>\n",
       "      <th>997</th>\n",
       "      <td>-1.967224</td>\n",
       "      <td>-0.752722</td>\n",
       "    </tr>\n",
       "    <tr>\n",
       "      <th>998</th>\n",
       "      <td>-2.351682</td>\n",
       "      <td>-2.970416</td>\n",
       "    </tr>\n",
       "    <tr>\n",
       "      <th>999</th>\n",
       "      <td>-0.202805</td>\n",
       "      <td>3.627785</td>\n",
       "    </tr>\n",
       "  </tbody>\n",
       "</table>\n",
       "<p>1000 rows × 2 columns</p>\n",
       "</div>"
      ],
      "text/plain": [
       "     principal component 1  principal component 2\n",
       "0                -0.988467               1.638507\n",
       "1                -2.394779              -1.933281\n",
       "2                -1.549161               1.744374\n",
       "3                -2.210920               2.376471\n",
       "4                -1.345979               0.871442\n",
       "..                     ...                    ...\n",
       "995               3.784424              -0.079716\n",
       "996              -1.792334              -1.491027\n",
       "997              -1.967224              -0.752722\n",
       "998              -2.351682              -2.970416\n",
       "999              -0.202805               3.627785\n",
       "\n",
       "[1000 rows x 2 columns]"
      ]
     },
     "execution_count": 80,
     "metadata": {},
     "output_type": "execute_result"
    }
   ],
   "source": [
    "from sklearn.decomposition import PCA\n",
    "pca = PCA(n_components=2)\n",
    "principalComponents = pca.fit_transform(x)\n",
    "principalDf = pd.DataFrame(data = principalComponents\n",
    "             , columns = ['principal component 1', 'principal component 2'])\n",
    "principalDf"
   ]
  },
  {
   "cell_type": "code",
   "execution_count": 52,
   "metadata": {},
   "outputs": [
    {
     "data": {
      "text/html": [
       "<div>\n",
       "<style scoped>\n",
       "    .dataframe tbody tr th:only-of-type {\n",
       "        vertical-align: middle;\n",
       "    }\n",
       "\n",
       "    .dataframe tbody tr th {\n",
       "        vertical-align: top;\n",
       "    }\n",
       "\n",
       "    .dataframe thead th {\n",
       "        text-align: right;\n",
       "    }\n",
       "</style>\n",
       "<table border=\"1\" class=\"dataframe\">\n",
       "  <thead>\n",
       "    <tr style=\"text-align: right;\">\n",
       "      <th></th>\n",
       "      <th>principal component 1</th>\n",
       "      <th>principal component 2</th>\n",
       "      <th>target</th>\n",
       "    </tr>\n",
       "  </thead>\n",
       "  <tbody>\n",
       "    <tr>\n",
       "      <th>0</th>\n",
       "      <td>-0.988467</td>\n",
       "      <td>1.638507</td>\n",
       "      <td>0</td>\n",
       "    </tr>\n",
       "    <tr>\n",
       "      <th>1</th>\n",
       "      <td>-2.394779</td>\n",
       "      <td>-1.933281</td>\n",
       "      <td>1</td>\n",
       "    </tr>\n",
       "    <tr>\n",
       "      <th>2</th>\n",
       "      <td>-1.549161</td>\n",
       "      <td>1.744374</td>\n",
       "      <td>0</td>\n",
       "    </tr>\n",
       "    <tr>\n",
       "      <th>3</th>\n",
       "      <td>-2.210920</td>\n",
       "      <td>2.376471</td>\n",
       "      <td>0</td>\n",
       "    </tr>\n",
       "    <tr>\n",
       "      <th>4</th>\n",
       "      <td>-1.345979</td>\n",
       "      <td>0.871442</td>\n",
       "      <td>0</td>\n",
       "    </tr>\n",
       "    <tr>\n",
       "      <th>...</th>\n",
       "      <td>...</td>\n",
       "      <td>...</td>\n",
       "      <td>...</td>\n",
       "    </tr>\n",
       "    <tr>\n",
       "      <th>995</th>\n",
       "      <td>3.784424</td>\n",
       "      <td>-0.079716</td>\n",
       "      <td>2</td>\n",
       "    </tr>\n",
       "    <tr>\n",
       "      <th>996</th>\n",
       "      <td>-1.792334</td>\n",
       "      <td>-1.491027</td>\n",
       "      <td>1</td>\n",
       "    </tr>\n",
       "    <tr>\n",
       "      <th>997</th>\n",
       "      <td>-1.967224</td>\n",
       "      <td>-0.752722</td>\n",
       "      <td>1</td>\n",
       "    </tr>\n",
       "    <tr>\n",
       "      <th>998</th>\n",
       "      <td>-2.351682</td>\n",
       "      <td>-2.970416</td>\n",
       "      <td>1</td>\n",
       "    </tr>\n",
       "    <tr>\n",
       "      <th>999</th>\n",
       "      <td>-0.202805</td>\n",
       "      <td>3.627785</td>\n",
       "      <td>0</td>\n",
       "    </tr>\n",
       "  </tbody>\n",
       "</table>\n",
       "<p>1000 rows × 3 columns</p>\n",
       "</div>"
      ],
      "text/plain": [
       "     principal component 1  principal component 2  target\n",
       "0                -0.988467               1.638507       0\n",
       "1                -2.394779              -1.933281       1\n",
       "2                -1.549161               1.744374       0\n",
       "3                -2.210920               2.376471       0\n",
       "4                -1.345979               0.871442       0\n",
       "..                     ...                    ...     ...\n",
       "995               3.784424              -0.079716       2\n",
       "996              -1.792334              -1.491027       1\n",
       "997              -1.967224              -0.752722       1\n",
       "998              -2.351682              -2.970416       1\n",
       "999              -0.202805               3.627785       0\n",
       "\n",
       "[1000 rows x 3 columns]"
      ]
     },
     "execution_count": 52,
     "metadata": {},
     "output_type": "execute_result"
    }
   ],
   "source": [
    "finalDf = pd.concat([principalDf,t], axis = 1)\n",
    "finalDf"
   ]
  },
  {
   "cell_type": "code",
   "execution_count": 53,
   "metadata": {},
   "outputs": [
    {
     "data": {
      "text/plain": [
       "[]"
      ]
     },
     "execution_count": 53,
     "metadata": {},
     "output_type": "execute_result"
    },
    {
     "data": {
      "image/png": "[encoded data removed]",
      "text/plain": [
       "<Figure size 576x576 with 1 Axes>"
      ]
     },
     "metadata": {
      "needs_background": "light"
     },
     "output_type": "display_data"
    }
   ],
   "source": [
    "import matplotlib.pyplot as plt\n",
    "fig = plt.figure(figsize = (8,8))\n",
    "ax = fig.add_subplot(1,1,1) \n",
    "ax.set_xlabel('Principal Component 1', fontsize = 15)\n",
    "ax.set_ylabel('Principal Component 2', fontsize = 15)\n",
    "ax.set_title('2 component PCA', fontsize = 20)\n",
    "targets = [0, 1, 2]\n",
    "colors = ['r', 'g', 'b']\n",
    "for target, color in zip(targets,colors):\n",
    "    indicesToKeep = finalDf['target'] == target\n",
    "    ax.scatter(finalDf.loc[indicesToKeep, 'principal component 1']\n",
    "               , finalDf.loc[indicesToKeep, 'principal component 2']\n",
    "               , c = color\n",
    "               , s = 50)\n",
    "ax.legend(targets)\n",
    "ax.grid()\n",
    "plt.plot()"
   ]
  },
  {
   "cell_type": "markdown",
   "metadata": {},
   "source": [
    "\n",
    "# classification"
   ]
  },
  {
   "cell_type": "code",
   "execution_count": 54,
   "metadata": {},
   "outputs": [],
   "source": [
    "from sklearn.preprocessing import StandardScaler\n",
    "scaler = StandardScaler()\n",
    "# Fit on training set only.\n",
    "scaler.fit(xtrain)\n",
    "# Apply transform to both the training set and the test set.\n",
    "xtrain = scaler.transform(xtrain)\n",
    "xtest = scaler.transform(xtest)"
   ]
  },
  {
   "cell_type": "code",
   "execution_count": 55,
   "metadata": {},
   "outputs": [
    {
     "data": {
      "text/plain": [
       "LogisticRegression(C=1.0, class_weight=None, dual=False, fit_intercept=True,\n",
       "                   intercept_scaling=1, l1_ratio=None, max_iter=100,\n",
       "                   multi_class='auto', n_jobs=None, penalty='l2',\n",
       "                   random_state=None, solver='lbfgs', tol=0.0001, verbose=0,\n",
       "                   warm_start=False)"
      ]
     },
     "execution_count": 55,
     "metadata": {},
     "output_type": "execute_result"
    }
   ],
   "source": [
    "from sklearn.linear_model import LogisticRegression\n",
    "# all parameters not specified are set to their defaults\n",
    "# default solver is incredibly slow which is why it was changed to 'lbfgs'\n",
    "logisticRegr = LogisticRegression(solver = 'lbfgs')\n",
    "logisticRegr.fit(xtrain,ytrain)"
   ]
  },
  {
   "cell_type": "code",
   "execution_count": 56,
   "metadata": {},
   "outputs": [
    {
     "data": {
      "text/plain": [
       "0.99"
      ]
     },
     "execution_count": 56,
     "metadata": {},
     "output_type": "execute_result"
    }
   ],
   "source": [
    "logisticRegr.score(xtest,ytest)"
   ]
  },
  {
   "cell_type": "code",
   "execution_count": 69,
   "metadata": {},
   "outputs": [
    {
     "data": {
      "text/plain": [
       "array([1, 0, 2, 1, 1, 1, 0, 2, 2, 1, 0, 2, 2, 1, 0, 1, 0, 0, 2, 0, 0, 0,\n",
       "       2, 2, 2, 2, 1, 0, 2, 2, 0, 2, 2, 0, 2, 1, 0, 1, 2, 1, 1, 1, 2, 0,\n",
       "       2, 2, 1, 1, 1, 2, 2, 1, 2, 2, 1, 1, 1, 2, 0, 1, 1, 2, 0, 2, 1, 0,\n",
       "       2, 1, 2, 2, 2, 2, 1, 1, 1, 2, 2, 1, 0, 2, 0, 0, 2, 1, 1, 2, 0, 0,\n",
       "       1, 1, 2, 0, 1, 0, 2, 2, 2, 0, 2, 1, 1, 1, 0, 1, 2, 0, 1, 0, 0, 1,\n",
       "       0, 1, 2, 2, 0, 0, 0, 0, 2, 1, 2, 2, 0, 2, 1, 1, 0, 2, 2, 1, 0, 1,\n",
       "       0, 2, 0, 1, 0, 1, 0, 0, 2, 0, 0, 2, 1, 2, 0, 2, 1, 0, 2, 0, 0, 2,\n",
       "       1, 1, 0, 1, 2, 1, 1, 1, 0, 0, 0, 0, 1, 1, 2, 0, 2, 1, 1, 2, 1, 0,\n",
       "       1, 2, 1, 2, 0, 0, 1, 1, 0, 0, 0, 2, 0, 1, 1, 1, 0, 1, 2, 0, 2, 1,\n",
       "       0, 0])"
      ]
     },
     "execution_count": 69,
     "metadata": {},
     "output_type": "execute_result"
    }
   ],
   "source": [
    "r=logisticRegr.predict(xtest)\n",
    "r"
   ]
  },
  {
   "cell_type": "code",
   "execution_count": 66,
   "metadata": {},
   "outputs": [
    {
     "data": {
      "text/plain": [
       "array([1, 0, 2, 1, 1, 1, 0, 2, 2, 1, 0, 2, 2, 1, 0, 1, 0, 0, 2, 0, 0, 0,\n",
       "       2, 2, 2, 2, 1, 0, 2, 2, 0, 2, 2, 0, 2, 1, 0, 1, 2, 1, 1, 1, 2, 0,\n",
       "       2, 2, 1, 1, 1, 2, 2, 1, 2, 2, 1, 1, 1, 2, 0, 1, 1, 2, 0, 2, 1, 0,\n",
       "       2, 1, 2, 2, 2, 2, 1, 1, 1, 2, 2, 1, 0, 2, 0, 0, 2, 1, 1, 2, 0, 0,\n",
       "       1, 1, 2, 0, 1, 0, 2, 2, 2, 0, 2, 1, 1, 0, 0, 1, 2, 0, 1, 0, 0, 1,\n",
       "       0, 1, 2, 2, 0, 0, 0, 0, 2, 1, 2, 2, 0, 2, 1, 1, 0, 2, 2, 1, 0, 1,\n",
       "       0, 2, 0, 1, 0, 1, 0, 0, 2, 0, 0, 2, 1, 2, 0, 2, 1, 0, 2, 0, 0, 2,\n",
       "       1, 1, 0, 0, 2, 1, 1, 1, 0, 0, 0, 0, 1, 1, 2, 0, 2, 1, 1, 2, 1, 0,\n",
       "       1, 2, 1, 2, 0, 0, 1, 1, 0, 0, 0, 2, 0, 1, 1, 1, 0, 1, 2, 0, 2, 1,\n",
       "       0, 0])"
      ]
     },
     "execution_count": 66,
     "metadata": {},
     "output_type": "execute_result"
    }
   ],
   "source": [
    "ytest"
   ]
  },
  {
   "cell_type": "code",
   "execution_count": 76,
   "metadata": {},
   "outputs": [
    {
     "data": {
      "text/plain": [
       "(array([101, 157]),)"
      ]
     },
     "execution_count": 76,
     "metadata": {},
     "output_type": "execute_result"
    }
   ],
   "source": [
    "import numpy as np\n",
    "ytest = np.asarray(ytest)\n",
    "misclassified = np.where(ytest != logisticRegr.predict(xtest))\n",
    "misclassified#means , here 101th index and 157th index is misclassified"
   ]
  },
  {
   "cell_type": "code",
   "execution_count": 75,
   "metadata": {},
   "outputs": [
    {
     "name": "stdout",
     "output_type": "stream",
     "text": [
      "1\n",
      "0\n",
      "1\n",
      "0\n"
     ]
    }
   ],
   "source": [
    "print(r[101])#predicted result \n",
    "print(ytest[101])#actual result\n",
    "#misclassfied 1\n",
    "print(r[157])#predicted result \n",
    "print(ytest[157])#actual result\n",
    "#misclassfied 2"
   ]
  }
 ],
 "metadata": {
  "kernelspec": {
   "display_name": "Python 3",
   "language": "python",
   "name": "python3"
  },
  "language_info": {
   "codemirror_mode": {
    "name": "ipython",
    "version": 3
   },
   "file_extension": ".py",
   "mimetype": "text/x-python",
   "name": "python",
   "nbconvert_exporter": "python",
   "pygments_lexer": "ipython3",
   "version": "3.6.8"
  }
 },
 "nbformat": 4,
 "nbformat_minor": 2
}
