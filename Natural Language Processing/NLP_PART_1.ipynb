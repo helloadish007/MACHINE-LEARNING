{
 "cells": [
  {
   "cell_type": "code",
   "execution_count": 23,
   "metadata": {},
   "outputs": [],
   "source": [
    "import tensorflow as tf\n",
    "from tensorflow import keras\n",
    "from tensorflow.keras.preprocessing.text import Tokenizer\n",
    "from tensorflow.keras.preprocessing.sequence import pad_sequences"
   ]
  },
  {
   "cell_type": "code",
   "execution_count": 30,
   "metadata": {},
   "outputs": [],
   "source": [
    "#matrix length was normally,the length of the largest sentence,you  can override it by using the parameter named 'maxlen'\n",
    "#if you are setting the maxlength ,you will actually be losing the data,\n",
    "#by default from the front part,to change the default ,u can use the parameter named 'truncating='post' "
   ]
  },
  {
   "cell_type": "code",
   "execution_count": 29,
   "metadata": {},
   "outputs": [
    {
     "name": "stdout",
     "output_type": "stream",
     "text": [
      "{'<oov>': 1, 'love': 2, 'my': 3, 'i': 4, 'dog': 5, 'cat': 6, 'you': 7, 'myself': 8, 'adish007': 9}\n",
      "\n",
      "\n",
      "encoding of senetence to sequences \n",
      "\n",
      "[[4, 2, 3, 5], [4, 2, 3, 6], [7, 2, 3, 5], [8, 9]]\n",
      "\n",
      "\n",
      "padding:making every sentences equal in size\n",
      "\n",
      "[[4 2 3 5]\n",
      " [4 2 3 6]\n",
      " [7 2 3 5]\n",
      " [8 9 0 0]]\n"
     ]
    }
   ],
   "source": [
    "sentences=['I love my dog','I love my cat','You love my dog!','myself adish007']\n",
    "tokenizer=Tokenizer(num_words=100,oov_token='<oov>')#tokenizer strips punctuation #\"it will keep the counter of all words - even when it's obvious that it will not use it later.\"\n",
    "tokenizer.fit_on_texts(sentences)#punctuations,case,spaces etc are removed\n",
    "word_index=tokenizer.word_index\n",
    "sequences=tokenizer.texts_to_sequences(sentences)\n",
    "padded=pad_sequences(sequences,padding='post')\n",
    "print(word_index)\n",
    "print('\\n')\n",
    "print('encoding of senetence to sequences \\n')\n",
    "print(sequences)\n",
    "print('\\n')\n",
    "print('padding:making every sentences equal in size\\n')\n",
    "print(padded)#normally padding is done after the sentence and not before,so add padding='post'\n",
    "\n",
    "\n"
   ]
  },
  {
   "cell_type": "code",
   "execution_count": 34,
   "metadata": {},
   "outputs": [
    {
     "name": "stdout",
     "output_type": "stream",
     "text": [
      "{'<oov>': 1, 'love': 2, 'my': 3, 'i': 4, 'dog': 5, 'cat': 6, 'you': 7, 'myself': 8, 'adish007': 9}\n",
      "\n",
      "\n",
      "encoding of senetence to sequences \n",
      "\n",
      "[[4, 2, 3, 5], [4, 2, 3, 6], [7, 2, 3, 5], [8, 9]]\n",
      "\n",
      "\n",
      "padding:making every sentences equal in size\n",
      "\n",
      "[[2 3 5]\n",
      " [2 3 6]\n",
      " [2 3 5]\n",
      " [8 9 0]]\n"
     ]
    }
   ],
   "source": [
    "sentences=['I love my dog','I love my cat','You love my dog!','myself adish007']\n",
    "tokenizer=Tokenizer(num_words=100,oov_token='<oov>')#tokenizer strips punctuation #\"it will keep the counter of all words - even when it's obvious that it will not use it later.\"\n",
    "tokenizer.fit_on_texts(sentences)#punctuations,case,spaces etc are removed\n",
    "word_index=tokenizer.word_index\n",
    "sequences=tokenizer.texts_to_sequences(sentences)\n",
    "padded=pad_sequences(sequences,padding='post',maxlen=3)#ADDED MAXLEN\n",
    "print(word_index)\n",
    "print('\\n')\n",
    "print('encoding of senetence to sequences \\n')\n",
    "print(sequences)\n",
    "print('\\n')\n",
    "print('padding:making every sentences equal in size\\n')\n",
    "print(padded)#normally padding is done after the sentence and not before,so add padding='post'\n",
    "\n",
    "\n"
   ]
  },
  {
   "cell_type": "code",
   "execution_count": 36,
   "metadata": {},
   "outputs": [
    {
     "name": "stdout",
     "output_type": "stream",
     "text": [
      "{'<oov>': 1, 'love': 2, 'my': 3, 'i': 4, 'dog': 5, 'cat': 6, 'you': 7, 'myself': 8, 'adish007': 9}\n",
      "\n",
      "\n",
      "encoding of senetence to sequences \n",
      "\n",
      "[[4, 2, 3, 5], [4, 2, 3, 6], [7, 2, 3, 5], [8, 9]]\n",
      "\n",
      "\n",
      "padding:making every sentences equal in size\n",
      "\n",
      "[[4 2 3]\n",
      " [4 2 3]\n",
      " [7 2 3]\n",
      " [8 9 0]]\n"
     ]
    }
   ],
   "source": [
    "sentences=['I love my dog','I love my cat','You love my dog!','myself adish007']\n",
    "tokenizer=Tokenizer(num_words=100,oov_token='<oov>')#tokenizer strips punctuation #\"it will keep the counter of all words - even when it's obvious that it will not use it later.\"\n",
    "tokenizer.fit_on_texts(sentences)#punctuations,case,spaces etc are removed\n",
    "word_index=tokenizer.word_index\n",
    "sequences=tokenizer.texts_to_sequences(sentences)\n",
    "padded=pad_sequences(sequences,padding='post',maxlen=3,truncating='post')#ADDED TRUNCATING\n",
    "print(word_index)\n",
    "print('\\n')\n",
    "print('encoding of senetence to sequences \\n')\n",
    "print(sequences)\n",
    "print('\\n')\n",
    "print('padding:making every sentences equal in size\\n')\n",
    "print(padded)#normally padding is done after the sentence and not before,so add padding='post'\n",
    "\n",
    "\n"
   ]
  },
  {
   "cell_type": "code",
   "execution_count": 22,
   "metadata": {},
   "outputs": [
    {
     "name": "stdout",
     "output_type": "stream",
     "text": [
      "[[4, 1, 2, 3, 5], [3, 5, 1, 3, 1]]\n"
     ]
    }
   ],
   "source": [
    "test_data=['i really love my dog','my dog loves my mantee']\n",
    "test_sequence=tokenizer.texts_to_sequences(test_data)\n",
    "print(test_sequence)\n",
    "#'i really love my dog'--here \"really\" was lost in encoding,bcoz it was not in the list of dictionaries\n",
    "#'my dog loves my mantee'--encoded as 'my dog my' --other words are omitted bcoz ,its not in the list\n",
    "\n",
    "#conclusion:\n",
    "# you need a lot of training data to build a large vocabulary\n"
   ]
  },
  {
   "cell_type": "code",
   "execution_count": null,
   "metadata": {},
   "outputs": [],
   "source": []
  },
  {
   "cell_type": "code",
   "execution_count": null,
   "metadata": {},
   "outputs": [],
   "source": []
  }
 ],
 "metadata": {
  "kernelspec": {
   "display_name": "Python 3",
   "language": "python",
   "name": "python3"
  },
  "language_info": {
   "codemirror_mode": {
    "name": "ipython",
    "version": 3
   },
   "file_extension": ".py",
   "mimetype": "text/x-python",
   "name": "python",
   "nbconvert_exporter": "python",
   "pygments_lexer": "ipython3",
   "version": "3.6.8"
  }
 },
 "nbformat": 4,
 "nbformat_minor": 2
}
