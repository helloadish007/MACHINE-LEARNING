{
 "cells": [
  {
   "cell_type": "markdown",
   "id": "59b5e4e5-713b-454d-a348-391077fbed9c",
   "metadata": {},
   "source": [
    "# DocVQA (visual question answering on documents)\n",
    "## The DONUT model is proposed in the OCR-free Document Understanding Transformer(DONUT) \n",
    "## DONUT proposes to solve the following problems.\n",
    "\n",
    "### CORD (form understanding)\n",
    "### DocVQA (visual question answering on documents)\n",
    "### RVL-DIP (document image classification)"
   ]
  },
  {
   "cell_type": "code",
   "execution_count": 1,
   "id": "7b0fa161-dab1-48ae-bf6f-66435b24fa30",
   "metadata": {},
   "outputs": [],
   "source": [
    "# Imports PIL module \n",
    "import urllib.request\n",
    "from PIL import Image"
   ]
  },
  {
   "cell_type": "code",
   "execution_count": 10,
   "id": "59f6e6fc-1c5a-4046-832a-d44c3f7a5a72",
   "metadata": {},
   "outputs": [
    {
     "data": {
      "text/plain": [
       "(1152, 648)"
      ]
     },
     "execution_count": 10,
     "metadata": {},
     "output_type": "execute_result"
    }
   ],
   "source": [
    "file_path = r\"\"\n",
    "\n",
    "image = Image.open(file_path).convert(\"RGB\")\n",
    "image.size"
   ]
  },
  {
   "cell_type": "code",
   "execution_count": 11,
   "id": "a5def2da-b4f9-4711-86c2-d4253cc71ba7",
   "metadata": {},
   "outputs": [
    {
     "name": "stderr",
     "output_type": "stream",
     "text": [
      "Could not find image processor class in the image processor config or the model config. Loading based on pattern matching with the model's feature extractor configuration.\n"
     ]
    }
   ],
   "source": [
    "from transformers import DonutProcessor, VisionEncoderDecoderModel\n",
    "\n",
    "processor = DonutProcessor.from_pretrained(\"naver-clova-ix/donut-base-finetuned-docvqa\")\n",
    "model = VisionEncoderDecoderModel.from_pretrained(\"naver-clova-ix/donut-base-finetuned-docvqa\")"
   ]
  },
  {
   "cell_type": "code",
   "execution_count": 12,
   "id": "d70b5393-2a9d-4807-8622-34a5c4e5778a",
   "metadata": {},
   "outputs": [
    {
     "name": "stdout",
     "output_type": "stream",
     "text": [
      "torch.Size([1, 3, 2560, 1920])\n"
     ]
    }
   ],
   "source": [
    "pixel_values = processor(image, return_tensors=\"pt\").pixel_values\n",
    "print(pixel_values.shape)"
   ]
  },
  {
   "cell_type": "code",
   "execution_count": 15,
   "id": "65a7e2ae-212d-4527-8dd5-46b4b2f76eda",
   "metadata": {},
   "outputs": [
    {
     "name": "stdout",
     "output_type": "stream",
     "text": [
      "{'question': 'what was the Program Name (FROM CURRENT STATE tabel)?', 'answer': 'sap migration to asure'}\n"
     ]
    }
   ],
   "source": [
    "import torch\n",
    "import re\n",
    "device = \"cuda\" if torch.cuda.is_available() else \"cpu\"\n",
    "model.to(device)\n",
    "questions = [\n",
    "             \"what was the Program Name (FROM CURRENT STATE tabel)? \"\n",
    "            ]\n",
    "# \"what was the expected win price ?\",\n",
    "# \"who was the delivery leader ?\",\n",
    "task_prompt = \"<s_docvqa><s_question>{user_input}</s_question><s_answer>\"\n",
    "for each in questions:\n",
    "    question = each\n",
    "    prompt = task_prompt.replace(\"{user_input}\", question)\n",
    "    decoder_input_ids = processor.tokenizer(prompt, add_special_tokens=False, return_tensors=\"pt\")[\"input_ids\"]\n",
    "    outputs = model.generate(pixel_values.to(device),\n",
    "                                decoder_input_ids=decoder_input_ids.to(device),\n",
    "                                max_length=model.decoder.config.max_position_embeddings,\n",
    "                                early_stopping=True,\n",
    "                                pad_token_id=processor.tokenizer.pad_token_id,\n",
    "                                eos_token_id=processor.tokenizer.eos_token_id,\n",
    "                                use_cache=True,\n",
    "                                num_beams=1,\n",
    "                                bad_words_ids=[[processor.tokenizer.unk_token_id]],\n",
    "                                return_dict_in_generate=True,\n",
    "                                output_scores=True)\n",
    "    seq = processor.batch_decode(outputs.sequences)[0]\n",
    "    print(processor.token2json(seq))"
   ]
  },
  {
   "cell_type": "code",
   "execution_count": null,
   "id": "eacdd8fc-f103-45c2-a661-81178d35ff80",
   "metadata": {},
   "outputs": [],
   "source": []
  }
 ],
 "metadata": {
  "kernelspec": {
   "display_name": "Python 3 (ipykernel)",
   "language": "python",
   "name": "python3"
  },
  "language_info": {
   "codemirror_mode": {
    "name": "ipython",
    "version": 3
   },
   "file_extension": ".py",
   "mimetype": "text/x-python",
   "name": "python",
   "nbconvert_exporter": "python",
   "pygments_lexer": "ipython3",
   "version": "3.11.4"
  }
 },
 "nbformat": 4,
 "nbformat_minor": 5
}
